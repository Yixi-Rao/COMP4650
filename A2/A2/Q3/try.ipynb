{
 "cells": [
  {
   "cell_type": "code",
   "execution_count": 3,
   "source": [
    "import numpy as np\r\n",
    "import torch\r\n",
    "import torch.nn as nn\r\n",
    "import torch.nn.functional as F\r\n",
    "\r\n",
    "\r\n"
   ],
   "outputs": [],
   "metadata": {}
  },
  {
   "cell_type": "code",
   "execution_count": 74,
   "source": [
    "probs = torch.Tensor([0.05, 0.05, 0.9])\r\n",
    "prob_dist = torch.distributions.Categorical(probs) # probs should be of size batch x classes\r\n",
    "for _ in range(20):\r\n",
    "    print(prob_dist.sample())\r\n",
    "\r\n",
    "torch.rand((1,1,5), dtype=torch.float)\r\n",
    "torch.tensor([[[0.6528, 0.3774, 0.2831, 0.6574, 0.7998]]]).squeeze(0).squeeze(0)"
   ],
   "outputs": [
    {
     "output_type": "stream",
     "name": "stdout",
     "text": [
      "tensor(2)\n",
      "tensor(2)\n",
      "tensor(2)\n",
      "tensor(2)\n",
      "tensor(2)\n",
      "tensor(1)\n",
      "tensor(2)\n",
      "tensor(2)\n",
      "tensor(2)\n",
      "tensor(2)\n",
      "tensor(2)\n",
      "tensor(1)\n",
      "tensor(2)\n",
      "tensor(2)\n",
      "tensor(1)\n",
      "tensor(2)\n",
      "tensor(2)\n",
      "tensor(2)\n",
      "tensor(2)\n",
      "tensor(2)\n"
     ]
    },
    {
     "output_type": "execute_result",
     "data": {
      "text/plain": [
       "tensor([0.6528, 0.3774, 0.2831, 0.6574, 0.7998])"
      ]
     },
     "metadata": {},
     "execution_count": 74
    }
   ],
   "metadata": {}
  }
 ],
 "metadata": {
  "orig_nbformat": 4,
  "language_info": {
   "name": "python",
   "version": "3.8.5",
   "mimetype": "text/x-python",
   "codemirror_mode": {
    "name": "ipython",
    "version": 3
   },
   "pygments_lexer": "ipython3",
   "nbconvert_exporter": "python",
   "file_extension": ".py"
  },
  "kernelspec": {
   "name": "python3",
   "display_name": "Python 3.8.5 64-bit ('base': conda)"
  },
  "interpreter": {
   "hash": "813112ed64e20f51b539095a608bda2b54bfc9bcb8cdad5fb223e90931f4f9a3"
  }
 },
 "nbformat": 4,
 "nbformat_minor": 2
}