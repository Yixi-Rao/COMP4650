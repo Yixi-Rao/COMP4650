{
 "cells": [
  {
   "cell_type": "code",
   "execution_count": 5,
   "source": [
    "import tensorflow as tf\r\n",
    "from tensorflow.keras import layers\r\n",
    "from numpy import array\r\n",
    "from tensorflow.keras.preprocessing.text import one_hot\r\n",
    "from tensorflow.keras.preprocessing.sequence import pad_sequences\r\n",
    "from tensorflow.keras.preprocessing.text import Tokenizer"
   ],
   "outputs": [],
   "metadata": {}
  },
  {
   "cell_type": "code",
   "execution_count": 6,
   "source": [
    "vocab_size = 50\r\n",
    "maxlen = 4\r\n",
    "\r\n",
    "\r\n",
    "# define documents\r\n",
    "docs = ['Well done!',\r\n",
    "\t\t'Good work',\r\n",
    "\t\t'Great effort',\r\n",
    "\t\t'nice work',\r\n",
    "\t\t'Excellent!',\r\n",
    "\t\t'Weak',\r\n",
    "\t\t'Poor effort!',\r\n",
    "\t\t'not good',\r\n",
    "\t\t'poor work',\r\n",
    "\t\t'Could have done better.']\r\n",
    "\r\n",
    "# define class labels\r\n",
    "labels = array([1,1,1,1,1,0,0,0,0,0])\r\n",
    "\r\n",
    "# prepare tokenizer\r\n",
    "t = Tokenizer()\r\n",
    "t.fit_on_texts(docs)\r\n",
    "# integer encode the documents\r\n",
    "encoded_docs = t.texts_to_sequences(docs)\r\n",
    "print(encoded_docs)\r\n",
    "padded_docs = pad_sequences(encoded_docs, maxlen=maxlen, padding='post')\r\n",
    "print(padded_docs)\r\n",
    "print(t.word_index)"
   ],
   "outputs": [
    {
     "output_type": "stream",
     "name": "stdout",
     "text": [
      "[[6, 2], [3, 1], [7, 4], [8, 1], [9], [10], [5, 4], [11, 3], [5, 1], [12, 13, 2, 14]]\n",
      "[[ 6  2  0  0]\n",
      " [ 3  1  0  0]\n",
      " [ 7  4  0  0]\n",
      " [ 8  1  0  0]\n",
      " [ 9  0  0  0]\n",
      " [10  0  0  0]\n",
      " [ 5  4  0  0]\n",
      " [11  3  0  0]\n",
      " [ 5  1  0  0]\n",
      " [12 13  2 14]]\n",
      "{'work': 1, 'done': 2, 'good': 3, 'effort': 4, 'poor': 5, 'well': 6, 'great': 7, 'nice': 8, 'excellent': 9, 'weak': 10, 'not': 11, 'could': 12, 'have': 13, 'better': 14}\n"
     ]
    }
   ],
   "metadata": {}
  }
 ],
 "metadata": {
  "orig_nbformat": 4,
  "language_info": {
   "name": "python",
   "version": "3.8.5",
   "mimetype": "text/x-python",
   "codemirror_mode": {
    "name": "ipython",
    "version": 3
   },
   "pygments_lexer": "ipython3",
   "nbconvert_exporter": "python",
   "file_extension": ".py"
  },
  "kernelspec": {
   "name": "python3",
   "display_name": "Python 3.8.5 64-bit ('base': conda)"
  },
  "interpreter": {
   "hash": "813112ed64e20f51b539095a608bda2b54bfc9bcb8cdad5fb223e90931f4f9a3"
  }
 },
 "nbformat": 4,
 "nbformat_minor": 2
}